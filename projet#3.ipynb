{
 "cells": [
  {
   "cell_type": "code",
   "execution_count": 3,
   "metadata": {},
   "outputs": [],
   "source": [
    "import pandas as pd"
   ]
  },
  {
   "cell_type": "code",
   "execution_count": 4,
   "metadata": {},
   "outputs": [],
   "source": [
    "df1 = pd.read_csv(\"https://datasets.imdbws.com/name.basics.tsv.gz\", sep = '\\t')"
   ]
  },
  {
   "cell_type": "code",
   "execution_count": 11,
   "metadata": {},
   "outputs": [],
   "source": [
    "df2 = pd.read_csv(\"https://datasets.imdbws.com/title.akas.tsv.gz\", sep = '\\t')"
   ]
  },
  {
   "cell_type": "code",
   "execution_count": 15,
   "metadata": {},
   "outputs": [],
   "source": [
    "df3 = pd.read_csv(\"https://datasets.imdbws.com/title.basics.tsv.gz\", sep = '\\t')"
   ]
  },
  {
   "cell_type": "code",
   "execution_count": 17,
   "metadata": {},
   "outputs": [],
   "source": [
    "df4 = pd.read_csv(\"https://datasets.imdbws.com/title.crew.tsv.gz\", sep = '\\t')"
   ]
  },
  {
   "cell_type": "code",
   "execution_count": 45,
   "metadata": {},
   "outputs": [],
   "source": [
    "df5 = pd.read_csv(\"https://datasets.imdbws.com/title.episode.tsv.gz\", sep = '\\t')"
   ]
  },
  {
   "cell_type": "code",
   "execution_count": 21,
   "metadata": {},
   "outputs": [],
   "source": [
    "df6 = pd.read_csv(\"https://datasets.imdbws.com/title.principals.tsv.gz\", sep = '\\t')"
   ]
  },
  {
   "cell_type": "code",
   "execution_count": 89,
   "metadata": {},
   "outputs": [],
   "source": [
    "df7 = pd.read_csv(\"https://datasets.imdbws.com/title.ratings.tsv.gz\", sep = '\\t')"
   ]
  },
  {
   "cell_type": "code",
   "execution_count": 97,
   "metadata": {},
   "outputs": [
    {
     "name": "stdout",
     "output_type": "stream",
     "text": [
      "<class 'pandas.core.frame.DataFrame'>\n",
      "RangeIndex: 21478054 entries, 0 to 21478053\n",
      "Data columns (total 8 columns):\n",
      "titleId            object\n",
      "ordering           int64\n",
      "title              object\n",
      "region             object\n",
      "language           object\n",
      "types              object\n",
      "attributes         object\n",
      "isOriginalTitle    object\n",
      "dtypes: int64(1), object(7)\n",
      "memory usage: 1.3+ GB\n"
     ]
    }
   ],
   "source": [
    "df2.info()"
   ]
  },
  {
   "cell_type": "code",
   "execution_count": 100,
   "metadata": {},
   "outputs": [
    {
     "data": {
      "text/html": [
       "<div>\n",
       "<style scoped>\n",
       "    .dataframe tbody tr th:only-of-type {\n",
       "        vertical-align: middle;\n",
       "    }\n",
       "\n",
       "    .dataframe tbody tr th {\n",
       "        vertical-align: top;\n",
       "    }\n",
       "\n",
       "    .dataframe thead th {\n",
       "        text-align: right;\n",
       "    }\n",
       "</style>\n",
       "<table border=\"1\" class=\"dataframe\">\n",
       "  <thead>\n",
       "    <tr style=\"text-align: right;\">\n",
       "      <th></th>\n",
       "      <th>tconst</th>\n",
       "      <th>ordering</th>\n",
       "      <th>nconst</th>\n",
       "      <th>category</th>\n",
       "      <th>job</th>\n",
       "      <th>characters</th>\n",
       "    </tr>\n",
       "  </thead>\n",
       "  <tbody>\n",
       "    <tr>\n",
       "      <td>0</td>\n",
       "      <td>tt0000001</td>\n",
       "      <td>1</td>\n",
       "      <td>nm1588970</td>\n",
       "      <td>self</td>\n",
       "      <td>\\N</td>\n",
       "      <td>[\"Self\"]</td>\n",
       "    </tr>\n",
       "    <tr>\n",
       "      <td>1</td>\n",
       "      <td>tt0000001</td>\n",
       "      <td>2</td>\n",
       "      <td>nm0005690</td>\n",
       "      <td>director</td>\n",
       "      <td>\\N</td>\n",
       "      <td>\\N</td>\n",
       "    </tr>\n",
       "    <tr>\n",
       "      <td>2</td>\n",
       "      <td>tt0000001</td>\n",
       "      <td>3</td>\n",
       "      <td>nm0374658</td>\n",
       "      <td>cinematographer</td>\n",
       "      <td>director of photography</td>\n",
       "      <td>\\N</td>\n",
       "    </tr>\n",
       "    <tr>\n",
       "      <td>3</td>\n",
       "      <td>tt0000002</td>\n",
       "      <td>1</td>\n",
       "      <td>nm0721526</td>\n",
       "      <td>director</td>\n",
       "      <td>\\N</td>\n",
       "      <td>\\N</td>\n",
       "    </tr>\n",
       "    <tr>\n",
       "      <td>4</td>\n",
       "      <td>tt0000002</td>\n",
       "      <td>2</td>\n",
       "      <td>nm1335271</td>\n",
       "      <td>composer</td>\n",
       "      <td>\\N</td>\n",
       "      <td>\\N</td>\n",
       "    </tr>\n",
       "    <tr>\n",
       "      <td>...</td>\n",
       "      <td>...</td>\n",
       "      <td>...</td>\n",
       "      <td>...</td>\n",
       "      <td>...</td>\n",
       "      <td>...</td>\n",
       "      <td>...</td>\n",
       "    </tr>\n",
       "    <tr>\n",
       "      <td>39102252</td>\n",
       "      <td>tt9916880</td>\n",
       "      <td>5</td>\n",
       "      <td>nm0996406</td>\n",
       "      <td>director</td>\n",
       "      <td>principal director</td>\n",
       "      <td>\\N</td>\n",
       "    </tr>\n",
       "    <tr>\n",
       "      <td>39102253</td>\n",
       "      <td>tt9916880</td>\n",
       "      <td>6</td>\n",
       "      <td>nm1482639</td>\n",
       "      <td>writer</td>\n",
       "      <td>\\N</td>\n",
       "      <td>\\N</td>\n",
       "    </tr>\n",
       "    <tr>\n",
       "      <td>39102254</td>\n",
       "      <td>tt9916880</td>\n",
       "      <td>7</td>\n",
       "      <td>nm2586970</td>\n",
       "      <td>writer</td>\n",
       "      <td>books</td>\n",
       "      <td>\\N</td>\n",
       "    </tr>\n",
       "    <tr>\n",
       "      <td>39102255</td>\n",
       "      <td>tt9916880</td>\n",
       "      <td>8</td>\n",
       "      <td>nm1594058</td>\n",
       "      <td>producer</td>\n",
       "      <td>producer</td>\n",
       "      <td>\\N</td>\n",
       "    </tr>\n",
       "    <tr>\n",
       "      <td>39102256</td>\n",
       "      <td>tt9916880</td>\n",
       "      <td>9</td>\n",
       "      <td>nm1052583</td>\n",
       "      <td>actress</td>\n",
       "      <td>\\N</td>\n",
       "      <td>[\"Mum\",\"Tidy Ted\",\"Fang\"]</td>\n",
       "    </tr>\n",
       "  </tbody>\n",
       "</table>\n",
       "<p>39102257 rows × 6 columns</p>\n",
       "</div>"
      ],
      "text/plain": [
       "             tconst  ordering     nconst         category  \\\n",
       "0         tt0000001         1  nm1588970             self   \n",
       "1         tt0000001         2  nm0005690         director   \n",
       "2         tt0000001         3  nm0374658  cinematographer   \n",
       "3         tt0000002         1  nm0721526         director   \n",
       "4         tt0000002         2  nm1335271         composer   \n",
       "...             ...       ...        ...              ...   \n",
       "39102252  tt9916880         5  nm0996406         director   \n",
       "39102253  tt9916880         6  nm1482639           writer   \n",
       "39102254  tt9916880         7  nm2586970           writer   \n",
       "39102255  tt9916880         8  nm1594058         producer   \n",
       "39102256  tt9916880         9  nm1052583          actress   \n",
       "\n",
       "                              job                 characters  \n",
       "0                              \\N                   [\"Self\"]  \n",
       "1                              \\N                         \\N  \n",
       "2         director of photography                         \\N  \n",
       "3                              \\N                         \\N  \n",
       "4                              \\N                         \\N  \n",
       "...                           ...                        ...  \n",
       "39102252       principal director                         \\N  \n",
       "39102253                       \\N                         \\N  \n",
       "39102254                    books                         \\N  \n",
       "39102255                 producer                         \\N  \n",
       "39102256                       \\N  [\"Mum\",\"Tidy Ted\",\"Fang\"]  \n",
       "\n",
       "[39102257 rows x 6 columns]"
      ]
     },
     "execution_count": 100,
     "metadata": {},
     "output_type": "execute_result"
    }
   ],
   "source": [
    "df6"
   ]
  },
  {
   "cell_type": "code",
   "execution_count": null,
   "metadata": {},
   "outputs": [],
   "source": []
  }
 ],
 "metadata": {
  "kernelspec": {
   "display_name": "Python 3",
   "language": "python",
   "name": "python3"
  },
  "language_info": {
   "codemirror_mode": {
    "name": "ipython",
    "version": 3
   },
   "file_extension": ".py",
   "mimetype": "text/x-python",
   "name": "python",
   "nbconvert_exporter": "python",
   "pygments_lexer": "ipython3",
   "version": "3.7.4"
  }
 },
 "nbformat": 4,
 "nbformat_minor": 2
}
